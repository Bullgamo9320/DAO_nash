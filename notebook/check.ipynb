{
 "cells": [
  {
   "cell_type": "code",
   "execution_count": 10,
   "metadata": {},
   "outputs": [],
   "source": [
    "struct Action{T}\n",
    "    values::Array{T}\n",
    "end\n",
    "\n",
    "struct Player{T}\n",
    "    id::Int64\n",
    "    actions::Action{T}\n",
    "    payoff_function::Function\n",
    "end\n",
    "\n",
    "struct Game\n",
    "    players::Array{Player}\n",
    "end\n"
   ]
  },
  {
   "cell_type": "code",
   "execution_count": 11,
   "metadata": {},
   "outputs": [
    {
     "data": {
      "text/plain": [
       "Player{String}(1, Action{String}([\"d\", \"c\"]), f)"
      ]
     },
     "metadata": {},
     "output_type": "display_data"
    }
   ],
   "source": [
    "a = Action{String}([\"d\",\"c\"])\n",
    "f(x) = x\n",
    "Player(1,a,f)"
   ]
  },
  {
   "cell_type": "code",
   "execution_count": 12,
   "metadata": {},
   "outputs": [
    {
     "data": {
      "text/plain": [
       "strategy_profiles (generic function with 2 methods)"
      ]
     },
     "metadata": {},
     "output_type": "display_data"
    }
   ],
   "source": [
    "function strategy_profiles(action::Action...)\n",
    "    #各プレイヤが持つ戦略の数をリストにしたもの\n",
    "    size_of_each_action::Vector{Int} = [length(i.values) for i in action]\n",
    "\n",
    "    #PythonのGenerator的にChannelを使う\n",
    "    Channel() do channel\n",
    "        for indices in CartesianIndices(tuple(size_of_each_action...))\n",
    "            list = [action[i].values[indices[i]] for i in 1:length(indices)]\n",
    "            put!(channel, list)\n",
    "        end\n",
    "    end\n",
    "end"
   ]
  },
  {
   "cell_type": "code",
   "execution_count": 15,
   "metadata": {},
   "outputs": [
    {
     "name": "stdout",
     "output_type": "stream",
     "text": [
      "x = [[0.1, 0.1], [0.2, 0.1], [0.1, 0.2], [0.2, 0.2]]\n"
     ]
    },
    {
     "data": {
      "text/plain": [
       "4-element Vector{Vector{Float64}}:\n",
       " [0.1, 0.1]\n",
       " [0.2, 0.1]\n",
       " [0.1, 0.2]\n",
       " [0.2, 0.2]"
      ]
     },
     "metadata": {},
     "output_type": "display_data"
    }
   ],
   "source": [
    "#action = Action{String}([\"d\",\"c\"])\n",
    "action = Action{Float64}([0.1,0.2])\n",
    "x = [i for i in strategy_profiles(action, action)]\n",
    "@show x"
   ]
  },
  {
   "cell_type": "code",
   "execution_count": null,
   "metadata": {},
   "outputs": [],
   "source": []
  }
 ],
 "metadata": {
  "kernelspec": {
   "display_name": "Julia 1.9.4",
   "language": "julia",
   "name": "julia-1.9"
  },
  "language_info": {
   "file_extension": ".jl",
   "mimetype": "application/julia",
   "name": "julia",
   "version": "1.9.4"
  }
 },
 "nbformat": 4,
 "nbformat_minor": 2
}
