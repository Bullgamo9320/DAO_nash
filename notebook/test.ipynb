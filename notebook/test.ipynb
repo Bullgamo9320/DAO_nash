{
 "cells": [
  {
   "cell_type": "code",
   "execution_count": null,
   "metadata": {},
   "outputs": [],
   "source": [
    "for i in 1:5\n",
    "    println(i)\n",
    "end\n"
   ]
  },
  {
   "cell_type": "code",
   "execution_count": null,
   "metadata": {},
   "outputs": [],
   "source": [
    "function strategy_profiles(xx...)\n",
    "    index_list = []\n",
    "    #println(args[1])\n",
    "    #println(length(xx))    \n",
    "    for i in 1:length(xx)\n",
    "    #   println(\"here\", xx[i])\n",
    "        push!(index_list, xx[i]) #リストの大きさを格納 \n",
    "    end\n",
    "    index_list   \n",
    "end\n",
    "\n",
    "x = [\"xx\",\"yy\"]\n",
    "y = [1,2,3]\n",
    "z = [10,100]\n",
    "println(strategy_profiles(x,y,z))\n"
   ]
  },
  {
   "cell_type": "code",
   "execution_count": 2,
   "metadata": {},
   "outputs": [],
   "source": [
    "action1 = 1:100000\n",
    "action2 = 1:100000\n",
    "\n",
    "payoff_mat1 = rand(length(action1),length(action2))\n"
   ]
  },
  {
   "cell_type": "code",
   "execution_count": 7,
   "metadata": {},
   "outputs": [
    {
     "name": "stdout",
     "output_type": "stream",
     "text": [
      "reduce_profile_idx = CartesianIndex(2, 2)\n"
     ]
    },
    {
     "data": {
      "text/plain": [
       "CartesianIndex(2, 2)"
      ]
     },
     "metadata": {},
     "output_type": "display_data"
    }
   ],
   "source": [
    "profile_idx = CartesianIndex(2,3,2)    \n",
    "i = 2\n",
    "#@show collect(Tuple(profile_idx))\n",
    "reduce_profile_idx = CartesianIndex(Tuple(deleteat!(collect(Tuple(profile_idx)),i)))\n",
    "@show reduce_profile_idx"
   ]
  },
  {
   "cell_type": "code",
   "execution_count": null,
   "metadata": {},
   "outputs": [],
   "source": []
  }
 ],
 "metadata": {
  "kernelspec": {
   "display_name": "Julia 1.9.4",
   "language": "julia",
   "name": "julia-1.9"
  },
  "language_info": {
   "file_extension": ".jl",
   "mimetype": "application/julia",
   "name": "julia",
   "version": "1.9.4"
  },
  "orig_nbformat": 4
 },
 "nbformat": 4,
 "nbformat_minor": 2
}
